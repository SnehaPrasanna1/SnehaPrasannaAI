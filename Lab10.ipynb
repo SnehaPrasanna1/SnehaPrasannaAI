{
  "nbformat": 4,
  "nbformat_minor": 0,
  "metadata": {
    "colab": {
      "provenance": [],
      "authorship_tag": "ABX9TyMZmIscRHhuCXGZ5P7UwYV1",
      "include_colab_link": true
    },
    "kernelspec": {
      "name": "python3",
      "display_name": "Python 3"
    },
    "language_info": {
      "name": "python"
    }
  },
  "cells": [
    {
      "cell_type": "markdown",
      "metadata": {
        "id": "view-in-github",
        "colab_type": "text"
      },
      "source": [
        "<a href=\"https://colab.research.google.com/github/SnehaPrasanna1/SnehaPrasannaAI/blob/main/Lab10.ipynb\" target=\"_parent\"><img src=\"https://colab.research.google.com/assets/colab-badge.svg\" alt=\"Open In Colab\"/></a>"
      ]
    },
    {
      "cell_type": "code",
      "source": [
        "def alpha_beta_pruning(node, depth, alpha, beta, maximizing_player):\n",
        "    \"\"\"\n",
        "    Alpha-Beta Pruning Algorithm.\n",
        "    Args:\n",
        "        node: Current node value (can be a game state or a value in the tree).\n",
        "        depth: Depth of the node in the tree (0 for leaves).\n",
        "        alpha: Best value the maximizer can guarantee.\n",
        "        beta: Best value the minimizer can guarantee.\n",
        "        maximizing_player: Boolean, True if the current player is maximizing.\n",
        "    Returns:\n",
        "        Best value for the current player.\n",
        "    \"\"\"\n",
        "    # Base case: if at a leaf node or maximum depth\n",
        "    if depth == 0 or isinstance(node, int):\n",
        "        return node\n",
        "\n",
        "    if maximizing_player:\n",
        "        max_eval = float('-inf')\n",
        "        for child in node:  # Assuming `node` is a list of child nodes\n",
        "            eval = alpha_beta_pruning(child, depth - 1, alpha, beta, False)\n",
        "            max_eval = max(max_eval, eval)\n",
        "            alpha = max(alpha, eval)\n",
        "            if beta <= alpha:  # Beta cutoff\n",
        "                break\n",
        "        return max_eval\n",
        "    else:\n",
        "        min_eval = float('inf')\n",
        "        for child in node:  # Assuming `node` is a list of child nodes\n",
        "            eval = alpha_beta_pruning(child, depth - 1, alpha, beta, True)\n",
        "            min_eval = min(min_eval, eval)\n",
        "            beta = min(beta, eval)\n",
        "            if beta <= alpha:  # Alpha cutoff\n",
        "                break\n",
        "        return min_eval\n",
        "\n",
        "\n",
        "# Example tree from the diagram\n",
        "tree = [\n",
        "    [10, 9],               # First branch of the tree\n",
        "    [14, 18],              # Second branch of the tree\n",
        "    [5, 4],                # Third branch of the tree\n",
        "    [50, 3]                # Fourth branch of the tree\n",
        "]\n",
        "\n",
        "# Example usage\n",
        "if __name__ == \"__main__\":\n",
        "    # Depth of the tree (levels of decision-making)\n",
        "    depth = 2  # Adjusted based on tree structure\n",
        "    # Call the alpha-beta pruning algorithm\n",
        "    optimal_value = alpha_beta_pruning(tree, depth, float('-inf'), float('inf'), True)\n",
        "    print(\"Optimal Value:\", optimal_value)\n"
      ],
      "metadata": {
        "id": "2SVa7vcJwIgU",
        "outputId": "4672a7f7-42d8-4138-ea2d-c479ec30b5c2",
        "colab": {
          "base_uri": "https://localhost:8080/"
        }
      },
      "execution_count": null,
      "outputs": [
        {
          "output_type": "stream",
          "name": "stdout",
          "text": [
            "Optimal Value: 14\n"
          ]
        }
      ]
    }
  ]
}